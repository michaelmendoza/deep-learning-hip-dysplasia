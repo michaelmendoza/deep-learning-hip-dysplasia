{
 "cells": [
  {
   "cell_type": "code",
   "execution_count": 3,
   "id": "edd5a1c5-fe1f-43db-8cd7-7a0cd8d9370c",
   "metadata": {},
   "outputs": [],
   "source": [
    "import numpy as np\n"
   ]
  },
  {
   "cell_type": "code",
   "execution_count": 12,
   "id": "aefd9d53-2c32-46da-a98e-f7e65a14117d",
   "metadata": {},
   "outputs": [
    {
     "data": {
      "text/plain": [
       "(2, 2, 2, 1)"
      ]
     },
     "execution_count": 12,
     "metadata": {},
     "output_type": "execute_result"
    }
   ],
   "source": [
    "y_true = np.array([1,1,1,0,0,0,0])\n",
    "y_pred = np.array([0,1,1,0,0,1,1])\n",
    "\n",
    "tp = np.sum(y_true * y_pred)\n",
    "tn = np.sum((1-y_true) * (1-y_pred))\n",
    "fp = np.sum((1-y_true) * y_pred) #np.sum(y_pred) - tp\n",
    "fn = np.sum(y_true * (1-y_pred)) #np.sum((1-y_pred)) - tn\n",
    "\n",
    "tp, tn, fp, fn\n"
   ]
  },
  {
   "cell_type": "code",
   "execution_count": null,
   "id": "1fa040df-fe8f-4f90-a49f-07324f3aec14",
   "metadata": {},
   "outputs": [],
   "source": []
  }
 ],
 "metadata": {
  "kernelspec": {
   "display_name": "Python 3 (ipykernel)",
   "language": "python",
   "name": "python3"
  },
  "language_info": {
   "codemirror_mode": {
    "name": "ipython",
    "version": 3
   },
   "file_extension": ".py",
   "mimetype": "text/x-python",
   "name": "python",
   "nbconvert_exporter": "python",
   "pygments_lexer": "ipython3",
   "version": "3.8.13"
  }
 },
 "nbformat": 4,
 "nbformat_minor": 5
}
